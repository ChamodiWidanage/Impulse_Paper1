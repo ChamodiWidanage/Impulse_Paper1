{
 "cells": [
  {
   "cell_type": "markdown",
   "id": "f786ff0c-7ffa-42a6-8b28-4631a3750450",
   "metadata": {},
   "source": [
    "# Preprocessing"
   ]
  },
  {
   "cell_type": "code",
   "execution_count": 1,
   "id": "678a507e-a5a2-4722-81ca-ca07a8389c54",
   "metadata": {
    "ExecuteTime": {
     "end_time": "2024-01-11T13:48:51.575241900Z",
     "start_time": "2024-01-11T13:48:48.788124500Z"
    }
   },
   "outputs": [],
   "source": [
    "# Importing the libraries\n",
    "import numpy as np\n",
    "import matplotlib.pyplot as plt\n",
    "import pandas as pd\n",
    "\n",
    "# Importing the dataset\n",
    "dataset = pd.read_excel('IDataset2.xlsx')\n",
    "X = dataset.iloc[:, :-1].values\n",
    "y = dataset.iloc[:, -1].values\n",
    "\n",
    "# Encoding categorical data\n",
    "# Encoding the Independent Variable\n",
    "from sklearn.compose import ColumnTransformer\n",
    "from sklearn.preprocessing import OneHotEncoder\n",
    "ct = ColumnTransformer(transformers=[('encoder', OneHotEncoder(), [0])],\n",
    "                       remainder='passthrough')\n",
    "X = np.array(ct.fit_transform(X))\n",
    "#print(X)\n",
    "#print (y)\n",
    "\n",
    "# Splitting the dataset into the Training set and Test set\n",
    "from sklearn.model_selection import train_test_split\n",
    "X_train, X_test, y_train, y_test = train_test_split(X, y, test_size = 0.3, random_state = 55)"
   ]
  },
  {
   "cell_type": "markdown",
   "id": "bac208c1-d7f9-47d1-b984-5e78bbfef258",
   "metadata": {},
   "source": [
    "# Calling the XGB Regressor"
   ]
  },
  {
   "cell_type": "code",
   "execution_count": 2,
   "id": "30b91529-abda-46a5-b56b-4af5b68f8783",
   "metadata": {
    "ExecuteTime": {
     "end_time": "2024-01-11T13:48:57.869827200Z",
     "start_time": "2024-01-11T13:48:57.805893200Z"
    }
   },
   "outputs": [],
   "source": [
    "from xgboost import XGBRegressor\n",
    "regressor = XGBRegressor(random_state = 55)"
   ]
  },
  {
   "cell_type": "markdown",
   "id": "f576ae86-f4d6-42e2-a849-8bdfacc099b2",
   "metadata": {},
   "source": [
    "# Applying Grid Search to find the best model and the best parameters"
   ]
  },
  {
   "cell_type": "code",
   "execution_count": null,
   "id": "58054665-2dc3-4a7c-ad4b-f8a10d5293ba",
   "metadata": {
    "is_executing": true,
    "ExecuteTime": {
     "start_time": "2024-01-11T13:53:29.144134800Z"
    }
   },
   "outputs": [],
   "source": [
    "from sklearn.model_selection import GridSearchCV\n",
    "parameters = [{'n_estimators': [100, 200, 300, 400, 500,600, 700, 800, 900,1000, 1100, 1200, 1300, 1400, 1500],\n",
    "               'max_depth': [2, 3, 4, 5, 6, 7, 8, 9, 10],\n",
    "               'gamma': [5, 4, 3, 2, 1, 0.1, 0.01, 0.001], \n",
    "               'learning_rate' : [0.001, 0.01, 0.1, 0.2, 0.3, 0.4, 0.5] }]\n",
    "grid_search = GridSearchCV(estimator = regressor,\n",
    "                           param_grid = parameters,\n",
    "                           scoring = 'r2',\n",
    "                           cv = 5,\n",
    "                           n_jobs = -1)\n",
    "grid_search.fit(X_train, y_train)\n",
    "best_accuracy = grid_search.best_score_\n",
    "best_parameters = grid_search.best_params_\n",
    "print(\"Best Accuracy:\", best_accuracy)\n",
    "print(\"Best Parameters:\", best_parameters)"
   ]
  },
  {
   "cell_type": "code",
   "execution_count": 4,
   "outputs": [],
   "source": [
    "results_df = pd.DataFrame(grid_search.cv_results_)\n",
    "\n",
    "from pathlib import Path\n",
    "filepath1 = Path.cwd().parent\n",
    "filepath2 = Path(filepath1/'Results/1D_XGB_Hyperparameter/xgb_impulse_hyperparameter.csv')  \n",
    "filepath2.parent.mkdir(parents=True, exist_ok=True)\n",
    "results_df.to_csv(filepath2)"
   ],
   "metadata": {
    "collapsed": false,
    "ExecuteTime": {
     "end_time": "2024-01-11T13:53:01.573657300Z",
     "start_time": "2024-01-11T13:53:01.425228100Z"
    }
   },
   "id": "523a7a315c9ec9c8"
  },
  {
   "cell_type": "markdown",
   "id": "5c916b88-07e9-44ba-8aa4-61f47a36baef",
   "metadata": {},
   "source": [
    "# Training the XGB Regression model on the Training set"
   ]
  },
  {
   "cell_type": "code",
   "execution_count": null,
   "id": "c5e94d07-e7c7-4497-bc9a-dd7978f05a10",
   "metadata": {},
   "outputs": [],
   "source": [
    "from xgboost import XGBRegressor\n",
    "regressor = XGBRegressor(n_estimators = 1600,\n",
    "                         max_depth = 2,\n",
    "                         gamma = 0.01, \n",
    "                         learning_rate = 0.5,\n",
    "                         random_state = 55)\n",
    "regressor.fit(X_train, y_train)"
   ]
  },
  {
   "cell_type": "markdown",
   "id": "43d334ab-9c01-4053-b1e7-a5b2f5a80f17",
   "metadata": {},
   "source": [
    "## Create a KFold object with 5 splits "
   ]
  },
  {
   "cell_type": "code",
   "execution_count": null,
   "id": "87d5753e-04a1-4028-8fbe-1faacbdd6519",
   "metadata": {},
   "outputs": [],
   "source": [
    "#regressor.fit (X_train, y_train)\n",
    "\n",
    "from sklearn.model_selection import cross_val_score\n",
    "from sklearn.model_selection import KFold\n",
    "folds = KFold(n_splits = 5, shuffle = False)\n",
    "scores = cross_val_score(regressor, X_train, y_train, scoring='r2', cv=folds)\n",
    "print (scores)\n",
    "print (scores.mean())"
   ]
  },
  {
   "cell_type": "markdown",
   "id": "19b180ae-cbe3-443f-bf8d-6ad0055e7a69",
   "metadata": {},
   "source": [
    "## Predicting the Test set results"
   ]
  },
  {
   "cell_type": "code",
   "execution_count": null,
   "id": "170b6a13-a3fd-4a98-b849-d7a82e4fd98e",
   "metadata": {},
   "outputs": [],
   "source": [
    "y_pred = regressor.predict(X_test)\n",
    "np.set_printoptions(precision=2)\n",
    "file = np.concatenate((y_pred.reshape(len(y_pred),1), y_test.reshape(len(y_test),1)),1)\n",
    "print(file)"
   ]
  },
  {
   "cell_type": "markdown",
   "id": "36f81331-da15-4288-90ce-e8ca1b56d2ab",
   "metadata": {
    "jp-MarkdownHeadingCollapsed": true,
    "tags": []
   },
   "source": [
    "## Evaluating the Model Performance"
   ]
  },
  {
   "cell_type": "markdown",
   "id": "3a499791-ef38-4922-90d6-78dcf2f143cd",
   "metadata": {},
   "source": [
    "### R2"
   ]
  },
  {
   "cell_type": "code",
   "execution_count": null,
   "id": "6a1003ab-c911-4aee-b5d5-447ba39cac5d",
   "metadata": {},
   "outputs": [],
   "source": [
    "from sklearn.metrics import r2_score\n",
    "r2 = r2_score(y_test, y_pred)\n",
    "print (r2)"
   ]
  },
  {
   "cell_type": "markdown",
   "id": "99cb6397-bcd0-40a4-812a-ea5536de2004",
   "metadata": {},
   "source": [
    "### Adjusted R2"
   ]
  },
  {
   "cell_type": "code",
   "execution_count": null,
   "id": "baa0878c-6603-4088-99f4-c67b0e18e03b",
   "metadata": {},
   "outputs": [],
   "source": [
    "adj_r2 = 1 - ((1 - r2) * (len(X_test) - 1) / (len(X_test) - len (X_test[0]) - 1))\n",
    "print (adj_r2)"
   ]
  },
  {
   "cell_type": "markdown",
   "id": "d427d15a-41d6-47f6-b157-8339d8a072f8",
   "metadata": {},
   "source": [
    "### RMSE"
   ]
  },
  {
   "cell_type": "code",
   "execution_count": null,
   "id": "e1343a7d-d9c3-4e02-82ea-2f95574541e4",
   "metadata": {},
   "outputs": [],
   "source": [
    "import math\n",
    "from sklearn.metrics import mean_squared_error\n",
    "\n",
    "math.sqrt(mean_squared_error(y_test, y_pred))"
   ]
  },
  {
   "cell_type": "markdown",
   "id": "4a11d3a6-775d-4872-bccf-a5f752b26ab4",
   "metadata": {},
   "source": [
    "### MAE"
   ]
  },
  {
   "cell_type": "code",
   "execution_count": null,
   "id": "e83f93bf-4260-4e7b-a540-7527d7369b3d",
   "metadata": {},
   "outputs": [],
   "source": [
    "from sklearn.metrics import mean_absolute_error\n",
    "\n",
    "mean_absolute_error(y_test, y_pred)"
   ]
  },
  {
   "cell_type": "markdown",
   "id": "2361b0b2-8aea-4143-8efa-750bd16b1e2b",
   "metadata": {
    "jp-MarkdownHeadingCollapsed": true,
    "tags": []
   },
   "source": [
    "## Visualize"
   ]
  },
  {
   "cell_type": "code",
   "execution_count": null,
   "id": "3d1bd2b7-9c7b-44be-8191-9c395ae2d71b",
   "metadata": {},
   "outputs": [],
   "source": [
    "plt.scatter(y_test, y_pred, color=\"blue\")\n",
    "plt.plot ([0,500],[0,500], color = \"red\")\n",
    "plt.axis ([0,500,0,500])\n",
    "plt.xlabel ('Actual data')\n",
    "plt.ylabel ('Predicted data')"
   ]
  },
  {
   "cell_type": "markdown",
   "id": "ed245077-31fb-44e3-a100-504d6ef18c14",
   "metadata": {
    "jp-MarkdownHeadingCollapsed": true,
    "tags": []
   },
   "source": [
    "## Error percentage visualization"
   ]
  },
  {
   "cell_type": "code",
   "execution_count": null,
   "id": "69125c38-815c-42ff-97d0-a7af5c6beb87",
   "metadata": {},
   "outputs": [],
   "source": [
    "# Generate data\n",
    "\n",
    "from sklearn.metrics import r2_score\n",
    "# Initialize layout\n",
    "fig, ax = plt.subplots(figsize = (9, 9))\n",
    "\n",
    "# Set the font to New Times Roman for all elements\n",
    "plt.rcParams['font.family'] = 'serif'\n",
    "plt.rcParams['font.serif'] = ['Times New Roman'] + plt.rcParams['font.serif']\n",
    "\n",
    "# Add scatterplot\n",
    "ax.scatter(y_test, y_pred, s=70, alpha=1, edgecolors=\"k\",c='mediumblue',zorder=5, label = 'Points')\n",
    "\n",
    "\n",
    "plt.ylabel('Predicted Peak Impulse (kPa.ms)',fontsize = 25)\n",
    "plt.xlabel('Actual Peak Impulse (kPa.ms)',fontsize = 25)\n",
    "plt.xticks(fontsize = 19)\n",
    "plt.yticks(fontsize = 19)\n",
    "\n",
    "\n",
    "# Plot regression line\n",
    "# ax.plot(xseq, a + b * xseq, color=\"Red\", lw=2.5,label='X=Y',alpha=1);\n",
    "\n",
    "\n",
    "x1 = np.linspace(0,500)\n",
    "\n",
    "plt.plot(x1, x1, 'Red', label='45\\N{DEGREE SIGN} line',lw=2.5,alpha=1)\n",
    "plt.plot(x1, 1.1*x1, '--m', label='\\u00B110% Error',lw=2.5,alpha=0.7)\n",
    "plt.plot(x1, 0.9*x1,'m', linestyle='--',lw=2.5,alpha=0.7)\n",
    "plt.plot(x1, 1.2*x1, '-.g', label='\\u00B120% Error',lw=2.5,alpha=0.7)\n",
    "plt.plot(x1, 0.8*x1,'-.g',lw=2.5,alpha=0.7)\n",
    "\n",
    "plt.ylim(0, 500)\n",
    "plt.xlim(0, 500)\n",
    "plt.legend(loc='upper left',fontsize = 25)\n",
    "\n",
    "plt.grid()\n",
    "\n",
    "ax.spines['left'].set_color('black')        # setting up Y-axis tick color to red\n",
    "ax.spines['bottom'].set_color('black')         #setting up above X-axis tick color to red\n",
    "\n",
    "\n",
    "\n",
    "#ax.annotate(\"$R^2$ = {:.3f}\".format(r2), (250, 100),fontsize = 25)  #Model is called here\n",
    "ax.annotate(\"Adj.R$^2$ = {:.3f}\".format(adj_r2), (250, 75),fontsize = 25)\n",
    "\n",
    "plt.savefig('Images/plotX1.png', dpi = 600, bbox_inches = 'tight')"
   ]
  },
  {
   "cell_type": "code",
   "execution_count": null,
   "id": "86f6951c-3175-48d2-9556-57810af2d749",
   "metadata": {},
   "outputs": [],
   "source": [
    "count1 = 0\n",
    "for i in range(len(y_pred)):\n",
    "    line1 = y_pred[i] - 0.9*y_test[i]\n",
    "    line2 = y_pred[i] - 1.1*y_test[i]\n",
    "    #print ('line 1 ', line1)\n",
    "    #print ('line 2 ', line2)\n",
    "    mask1 = (line1 > 0) & (line2 < 0)\n",
    "    #print (mask)\n",
    "    count1 = np.sum(mask1+count1)\n",
    "    #print (count)\n",
    "\n",
    "count2 = 0\n",
    "for j in range(len(y_pred)):\n",
    "    line3 = y_pred[j] - 0.8*y_test[j]\n",
    "    line4 = y_pred[j] - 1.2*y_test[j]\n",
    "    mask2 = (line3 > 0) & (line4 < 0)\n",
    "    count2 = np.sum(mask2+count2)\n",
    "   \n",
    "\n",
    "print ('Within 10% margin', format((count1/len (y_pred)),'.2%'))\n",
    "print ('Within 20% margin', format((count2/len (y_pred)),'.2%'))"
   ]
  },
  {
   "cell_type": "markdown",
   "id": "9f0d4549-be8e-4200-b31b-3bbc72877f03",
   "metadata": {
    "jp-MarkdownHeadingCollapsed": true,
    "tags": []
   },
   "source": [
    "## <100 Pa.s"
   ]
  },
  {
   "cell_type": "code",
   "execution_count": null,
   "id": "479664fe-9f40-4087-8378-606c869c2206",
   "metadata": {},
   "outputs": [],
   "source": [
    "from sklearn.metrics import r2_score\n",
    "# Initialize layout\n",
    "fig1, bx = plt.subplots(figsize = (9, 9))\n",
    "\n",
    "\n",
    "# Add scatterplot\n",
    "bx.scatter(y_test, y_pred, s=70, alpha=1, edgecolors=\"k\",c='mediumblue',zorder=5, label = 'Points')\n",
    "\n",
    "# Fit linear regression via least squares with numpy.polyfit\n",
    "# It returns an slope (b) and intercept (a)\n",
    "# deg=1 means linear fit (i.e. polynomial of degree 1)\n",
    "# b, a = np.polyfit(x, y, deg=1)\n",
    "\n",
    "# Create sequence of 50 numbers from 0 to 5 \n",
    "#xseq = np.linspace(0, 5)\n",
    "\n",
    "\n",
    "\n",
    "plt.ylabel('Predicted Peak Impulse (kPa.ms)',fontsize = 25)\n",
    "plt.xlabel('Actual Peak Impulse (kPa.ms)',fontsize = 25)\n",
    "plt.xticks(fontsize = 19)\n",
    "plt.yticks(fontsize = 19)\n",
    "\n",
    "\n",
    "# Plot regression line\n",
    "# ax.plot(xseq, a + b * xseq, color=\"Red\", lw=2.5,label='X=Y',alpha=1);\n",
    "\n",
    "\n",
    "x1 = np.linspace(0,100)\n",
    "\n",
    "plt.plot(x1, x1, 'Red', label='45\\N{DEGREE SIGN} line',lw=2.5,alpha=1)\n",
    "plt.plot(x1, 1.1*x1, '--m', label='\\u00B110% Error',lw=2.5,alpha=0.7)\n",
    "plt.plot(x1, 0.9*x1,'m', linestyle='--',lw=2.5,alpha=0.7)\n",
    "plt.plot(x1, 1.2*x1, '-.g', label='\\u00B120% Error',lw=2.5,alpha=0.7)\n",
    "plt.plot(x1, 0.8*x1,'-.g',lw=2.5,alpha=0.7)\n",
    "\n",
    "plt.ylim(0, 100)\n",
    "plt.xlim(0, 100)\n",
    "plt.legend(loc='upper left',fontsize = 25)\n",
    "\n",
    "plt.grid()\n",
    "\n",
    "bx.spines['left'].set_color('black')        # setting up Y-axis tick color to red\n",
    "bx.spines['bottom'].set_color('black')         #setting up above X-axis tick color to red\n",
    "\n",
    "#ax.annotate(\"$R^2$ = {:.3f}\".format(r2_score(y_test, y_pred)), (5000, 2000),fontsize = 25)  #Model is called here\n",
    "\n",
    "plt.savefig('Images/plotX1.png', dpi = 600, bbox_inches = 'tight')"
   ]
  },
  {
   "cell_type": "markdown",
   "id": "41efef87-6352-44ea-882f-e9d92debe433",
   "metadata": {},
   "source": [
    "## Save the model to disk"
   ]
  },
  {
   "cell_type": "code",
   "execution_count": null,
   "id": "da3ae657-cc3f-48c9-932d-cfd2c2717b81",
   "metadata": {
    "tags": []
   },
   "outputs": [],
   "source": [
    "import pickle\n",
    "filename = 'finalized_model_XGB.sav'\n",
    "pickle.dump(regressor, open(filename, 'wb'))"
   ]
  },
  {
   "cell_type": "markdown",
   "id": "5555e625-14c8-4bca-ab4f-1430dd4f00a0",
   "metadata": {},
   "source": [
    "## Make new predictions"
   ]
  },
  {
   "cell_type": "code",
   "execution_count": null,
   "id": "edfa0c64-fc56-43b8-8b32-49bdb58c11a6",
   "metadata": {
    "tags": []
   },
   "outputs": [],
   "source": [
    "%%timeit -r 1 -n 1\n",
    "comp_data = pd.read_excel('ForPaperComparison.xlsx')\n",
    "print (comp_data)\n",
    "comp_data_pred = regressor.predict(comp_data)\n",
    "print (comp_data_pred)"
   ]
  }
 ],
 "metadata": {
  "kernelspec": {
   "display_name": "Python 3 (ipykernel)",
   "language": "python",
   "name": "python3"
  },
  "language_info": {
   "codemirror_mode": {
    "name": "ipython",
    "version": 3
   },
   "file_extension": ".py",
   "mimetype": "text/x-python",
   "name": "python",
   "nbconvert_exporter": "python",
   "pygments_lexer": "ipython3",
   "version": "3.9.18"
  }
 },
 "nbformat": 4,
 "nbformat_minor": 5
}
